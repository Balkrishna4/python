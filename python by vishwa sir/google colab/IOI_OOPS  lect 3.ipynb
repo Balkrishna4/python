{
  "nbformat": 4,
  "nbformat_minor": 0,
  "metadata": {
    "colab": {
      "provenance": []
    },
    "kernelspec": {
      "name": "python3",
      "display_name": "Python 3"
    },
    "language_info": {
      "name": "python"
    }
  },
  "cells": [
    {
      "cell_type": "code",
      "source": [
        "class Person :\n",
        "  pass\n",
        "\n",
        "per_obj = Person()\n",
        "\n",
        "print(per_obj)\n",
        "\n"
      ],
      "metadata": {
        "colab": {
          "base_uri": "https://localhost:8080/"
        },
        "id": "kFl3wjvzdM3K",
        "outputId": "f39713cb-2080-4f31-bb0c-3afb00a8e8bd"
      },
      "execution_count": null,
      "outputs": [
        {
          "output_type": "stream",
          "name": "stdout",
          "text": [
            "<__main__.Person object at 0x7bcfc72a1ea0>\n"
          ]
        }
      ]
    },
    {
      "cell_type": "code",
      "source": [
        "class Person :\n",
        "  #Logic to create Person object with attributes\n",
        "  #Initializer or constructor\n",
        "  def __init__(self, name , age):\n",
        "    self.name = name\n",
        "    self.age = age\n",
        "\n",
        "per = Person(\"Vishwa\", 99)\n",
        "print(per.name)\n",
        "print(per.age)\n",
        "\n",
        "per1 = Person(\"Ambani\", 89)\n",
        "print(per1.name)\n"
      ],
      "metadata": {
        "colab": {
          "base_uri": "https://localhost:8080/"
        },
        "id": "s8Mjxln8ezYG",
        "outputId": "4212b2c5-e21e-4144-e9ab-b5366ef5f99b"
      },
      "execution_count": null,
      "outputs": [
        {
          "output_type": "stream",
          "name": "stdout",
          "text": [
            "Vishwa\n",
            "99\n",
            "Ambani\n"
          ]
        }
      ]
    },
    {
      "cell_type": "code",
      "source": [
        "'''\n",
        "\n",
        "  class - Student\n",
        "       enrlId\n",
        "       subject\n",
        "       hobby\n",
        "  Object\n",
        "  And print all the properties of the objects\n",
        "'''\n"
      ],
      "metadata": {
        "id": "SnEVB2taguVS"
      },
      "execution_count": null,
      "outputs": []
    },
    {
      "cell_type": "code",
      "source": [
        "class Student :\n",
        "  def __init__(self, enrlId, subject, hobby):\n",
        "    self.enrlId = enrlId\n",
        "    self.subject = subject\n",
        "    self.hobby = hobby\n",
        "\n",
        "\n",
        "stud1 = Student(123,\"Python\", \"Cricket\")\n",
        "\n",
        "print(stud1.hobby)"
      ],
      "metadata": {
        "colab": {
          "base_uri": "https://localhost:8080/"
        },
        "id": "UFy8FyW_hsfh",
        "outputId": "e28ef386-8aea-4d4a-f943-8fe387aee34e"
      },
      "execution_count": null,
      "outputs": [
        {
          "output_type": "stream",
          "name": "stdout",
          "text": [
            "Cricket\n"
          ]
        }
      ]
    },
    {
      "cell_type": "code",
      "source": [
        "class Person :\n",
        "  #Logic to create Person object with attributes\n",
        "  #Initializer or constructor\n",
        "  def __init__(self, name , age):\n",
        "    self.name = name\n",
        "    self.age = age\n",
        "\n",
        "\n",
        "\n",
        "\n",
        "\n",
        "per1 = Person(\"Vishwa\",99)\n",
        "\n"
      ],
      "metadata": {
        "id": "1qfWJS3WiWq9"
      },
      "execution_count": null,
      "outputs": []
    },
    {
      "cell_type": "code",
      "source": [
        "per1.hobby =\"Cricket\"\n",
        "\n",
        "print(per1.hobby)\n",
        "\n",
        "\n",
        "per2 = Person(\"Mohan\", 87)\n",
        "\n",
        "print(per2.hobby)"
      ],
      "metadata": {
        "colab": {
          "base_uri": "https://localhost:8080/",
          "height": 193
        },
        "id": "jEz1l2pMk5lk",
        "outputId": "1fd26887-cf80-4d90-dcad-52f4df7ed7ee"
      },
      "execution_count": null,
      "outputs": [
        {
          "output_type": "stream",
          "name": "stdout",
          "text": [
            "Cricket\n"
          ]
        },
        {
          "output_type": "error",
          "ename": "AttributeError",
          "evalue": "'Person' object has no attribute 'hobby'",
          "traceback": [
            "\u001b[0;31m---------------------------------------------------------------------------\u001b[0m",
            "\u001b[0;31mAttributeError\u001b[0m                            Traceback (most recent call last)",
            "\u001b[0;32m<ipython-input-11-518b5bdec2e6>\u001b[0m in \u001b[0;36m<cell line: 8>\u001b[0;34m()\u001b[0m\n\u001b[1;32m      6\u001b[0m \u001b[0mper2\u001b[0m \u001b[0;34m=\u001b[0m \u001b[0mPerson\u001b[0m\u001b[0;34m(\u001b[0m\u001b[0;34m\"Mohan\"\u001b[0m\u001b[0;34m,\u001b[0m \u001b[0;36m87\u001b[0m\u001b[0;34m)\u001b[0m\u001b[0;34m\u001b[0m\u001b[0;34m\u001b[0m\u001b[0m\n\u001b[1;32m      7\u001b[0m \u001b[0;34m\u001b[0m\u001b[0m\n\u001b[0;32m----> 8\u001b[0;31m \u001b[0mprint\u001b[0m\u001b[0;34m(\u001b[0m\u001b[0mper2\u001b[0m\u001b[0;34m.\u001b[0m\u001b[0mhobby\u001b[0m\u001b[0;34m)\u001b[0m\u001b[0;34m\u001b[0m\u001b[0;34m\u001b[0m\u001b[0m\n\u001b[0m",
            "\u001b[0;31mAttributeError\u001b[0m: 'Person' object has no attribute 'hobby'"
          ]
        }
      ]
    },
    {
      "cell_type": "code",
      "source": [
        "\n",
        "\n",
        "class Person :\n",
        "  def __init__(self, name , age=99, hobby=\"Cricket\"):\n",
        "    self.name = name\n",
        "    self.age = age\n",
        "    self.hobby = hobby\n",
        "\n",
        "\n",
        "per1 = Person(\"Vishwa\")\n",
        "per2 = Person(\"Mohan\",53)\n",
        "per3= Person(name=\"Vishwa Mohan\", hobby=\"Football\")"
      ],
      "metadata": {
        "id": "nhsBj6TTmEYC"
      },
      "execution_count": null,
      "outputs": []
    },
    {
      "cell_type": "markdown",
      "source": [],
      "metadata": {
        "id": "kEu5NCJHm0Mh"
      }
    },
    {
      "cell_type": "code",
      "source": [
        "'''\n",
        "\n",
        "  Properties/state :\n",
        "\n",
        "  1. Object property\n",
        "  2. Class Property\n",
        "'''"
      ],
      "metadata": {
        "id": "xtDBiQO3m1UA"
      },
      "execution_count": null,
      "outputs": []
    },
    {
      "cell_type": "code",
      "source": [
        "class Person :\n",
        "\n",
        "  country = \"India\"\n",
        "  def __init__(self, name, age):\n",
        "    self.name = name\n",
        "    self.age = age\n",
        "\n",
        "per1 = Person(\"Vishwa\", 99)\n",
        "\n",
        "per2 = Person(\"Mohan\",98)\n",
        "\n",
        "print(per1.name, per1.country)\n",
        "print(per2.name, per2.country)\n",
        "\n",
        "\n",
        "print(Person.country)"
      ],
      "metadata": {
        "colab": {
          "base_uri": "https://localhost:8080/"
        },
        "id": "A-oD8Tk9nBYq",
        "outputId": "f236e9b4-b959-4398-fef2-1e79a75d570c"
      },
      "execution_count": null,
      "outputs": [
        {
          "output_type": "stream",
          "name": "stdout",
          "text": [
            "Vishwa India\n",
            "Mohan India\n",
            "India\n"
          ]
        }
      ]
    },
    {
      "cell_type": "code",
      "source": [
        "class Person :\n",
        "  def __init__(self, name, age):\n",
        "    self.name = name\n",
        "    self.age = age\n",
        "\n",
        "  def dance(self):\n",
        "    print(self.name +\" can also dance !!!\")\n",
        "\n",
        "\n",
        "per = Person(\"Vishwa\",99)\n",
        "\n",
        "per.dance()"
      ],
      "metadata": {
        "colab": {
          "base_uri": "https://localhost:8080/"
        },
        "id": "LTTfX7XwoHgh",
        "outputId": "0ea1a98b-c943-4370-f39b-6e0085f0718c"
      },
      "execution_count": null,
      "outputs": [
        {
          "output_type": "stream",
          "name": "stdout",
          "text": [
            "Vishwa can also dance !!!\n"
          ]
        }
      ]
    },
    {
      "cell_type": "code",
      "source": [
        "'''\n",
        "\n",
        "class car\n",
        "   brand\n",
        "   color\n",
        "   make\n",
        "\n",
        "accelarate ( ). -> Brand name car is accelerating\n",
        "'''"
      ],
      "metadata": {
        "id": "F89wBLoZpAXc"
      },
      "execution_count": null,
      "outputs": []
    },
    {
      "cell_type": "code",
      "source": [
        "class Car :\n",
        "  def __init__(self, brand, color, make):\n",
        "    self.brand = brand\n",
        "    self.color = color\n",
        "    self.make = make\n",
        "\n",
        "  def accelerate(self):\n",
        "    print(self.brand + \" car is accelarating\")\n",
        "\n",
        "obj = Car(\"BMW\", \"Black\", 2023)\n",
        "\n",
        "obj.accelerate()"
      ],
      "metadata": {
        "colab": {
          "base_uri": "https://localhost:8080/"
        },
        "id": "IrHfN4bIqIQ0",
        "outputId": "ee8eb5a3-2b1a-46ec-ec28-a4c84519fd24"
      },
      "execution_count": null,
      "outputs": [
        {
          "output_type": "stream",
          "name": "stdout",
          "text": [
            "BMW car is accelarating\n"
          ]
        }
      ]
    },
    {
      "cell_type": "code",
      "source": [
        "#Inheritance\n",
        "\n",
        "\n",
        "class Parent :\n",
        "  def eat():\n",
        "    print(\"All of us eat food\")\n",
        "\n",
        "class Child(Parent):\n",
        "  pass\n",
        "\n",
        "child = Child()\n",
        "\n",
        "child.eat()"
      ],
      "metadata": {
        "colab": {
          "base_uri": "https://localhost:8080/"
        },
        "id": "WewMmOooHVgA",
        "outputId": "0a3ef23b-66a0-482c-f094-b56d4a9c8110"
      },
      "execution_count": null,
      "outputs": [
        {
          "output_type": "stream",
          "name": "stdout",
          "text": [
            "All of us eat food\n"
          ]
        }
      ]
    },
    {
      "cell_type": "code",
      "source": [
        "class Student :\n",
        "  #instance\n",
        "  def met1(self):\n",
        "    print(\"This is instance method\")\n",
        "\n",
        "  #class method\n",
        "  @classmethod\n",
        "  def met2(cls):\n",
        "    print(\"This is a class method\")\n",
        "\n",
        "  #static\n",
        "  @staticmethod\n",
        "  def met3():\n",
        "    print(\"This is static  method\")\n",
        "\n"
      ],
      "metadata": {
        "id": "GqlmI0uLICl1"
      },
      "execution_count": null,
      "outputs": []
    },
    {
      "cell_type": "code",
      "source": [
        "class Animal :\n",
        "  jungle = \"Ranthambor\"\n",
        "  def __init__(self, name):\n",
        "    self.name = name\n",
        "\n",
        "  def eat(self):\n",
        "    print(self.name, \" is eating\")\n",
        "\n",
        "  def play(self):\n",
        "    print(\"Animal is playing\")\n",
        "\n",
        "\n",
        "\n",
        "\n",
        "class Dog(Animal):\n",
        "  jungle = \"Jamnagar\"\n",
        "  def __init__(self,name,breed):\n",
        "    Animal.__init__(self, name) #Create parent first\n",
        "    self.breed = breed\n",
        "\n",
        "  def whereDoIBelong(self):\n",
        "    print(\"My parent stayed in \", Animal.jungle)\n",
        "    print(\"I was saved to eat laddoos at \", self.jungle)\n",
        "\n",
        "\n",
        "  def play(self):\n",
        "    print(\"Dog is playing\")\n",
        "\n",
        "  def seeAllPlayMehtods(self):\n",
        "    #parent method\n",
        "    super().play()\n",
        "    #child method\n",
        "    self.play()\n",
        "\n",
        "\n",
        "dog = Dog(\"Tommy\", \"Bulldog\")\n",
        "\n",
        "dog.eat()\n",
        "\n",
        "print(dog.name)\n",
        "\n",
        "dog.whereDoIBelong()\n",
        "\n",
        "dog.play()\n",
        "\n",
        "dog.seeAllPlayMehtods()"
      ],
      "metadata": {
        "colab": {
          "base_uri": "https://localhost:8080/"
        },
        "id": "aH9IcDM6KC9z",
        "outputId": "be0cb655-5f46-4d45-d029-c10735094530"
      },
      "execution_count": null,
      "outputs": [
        {
          "output_type": "stream",
          "name": "stdout",
          "text": [
            "Tommy  is eating\n",
            "Tommy\n",
            "My parent stayed in  Ranthambor\n",
            "I was saved to eat laddoos at  Jamnagar\n",
            "Dog is playing\n",
            "Animal is playing\n",
            "Dog is playing\n"
          ]
        }
      ]
    },
    {
      "cell_type": "code",
      "source": [
        "#1.Initialize\n",
        "class Parent :\n",
        "  country = \"India\"\n",
        "  def __init__(self, name):\n",
        "    self.name = name\n",
        "  def eat(self):\n",
        "    print(\"Parent is eating\")\n",
        "\n",
        "\n",
        "class Child(Parent) :\n",
        "  country = \"USA\"\n",
        "  def __init__(self, name, age):\n",
        "    #Parent.__init__(self, name)\n",
        "    super().__init__(name)\n",
        "\n",
        "  def whereDoILive(self) :\n",
        "    print(\"My parents live in\", ntry )\n",
        "    print(\"I live in\", self.country)\n",
        "\n",
        "  def eat(self):\n",
        "    print(\"Chid is eating\")\n",
        "\n",
        "  def eatingPatternOfTheFamily(self):\n",
        "    super().eat()\n",
        "    self.eat()\n"
      ],
      "metadata": {
        "id": "5NHI9RalO2Db"
      },
      "execution_count": null,
      "outputs": []
    },
    {
      "cell_type": "markdown",
      "source": [
        "**Problem statement 1 **\n",
        "\n",
        "Implement a class Point that has three properties and a method. All these attributes (properties and methods) should be public. This problem can be broken down into two tasks:\n",
        "\n",
        "Task 1\n",
        "Implement a constructor to initialize the values of three properties: x, y, and z.\n",
        "\n",
        "Task 2\n",
        "Implement a method, sqSum(), in the Point class which squares x, y, and z and returns their sum.\n",
        "\n",
        "Sample properties\n",
        "\n",
        "1, 3, 5\n",
        "Sample method output\n",
        "\n",
        "35"
      ],
      "metadata": {
        "id": "GnPUBkmy9UdQ"
      }
    },
    {
      "cell_type": "code",
      "source": [
        "class Point :\n",
        "  def __init__(self, x, y, z):\n",
        "    self.x = x\n",
        "    self.y = 2\n",
        "    self.z =z\n",
        "\n",
        "  def sqSum(self):\n",
        "    return self.x**2 + self.y**2 +self.z**2"
      ],
      "metadata": {
        "id": "TcrIzSMhr2Tw"
      },
      "execution_count": null,
      "outputs": []
    },
    {
      "cell_type": "code",
      "source": [
        "#class methods\n",
        "class Person :\n",
        "  country = \"India\"\n",
        "  def __init__(self, name, age):\n",
        "    self.name = name\n",
        "    self.age = age\n",
        "\n",
        "  @staticmethod\n",
        "  def massBunking():\n",
        "    print(\"Bunking mein kya hi maja hai !\")\n",
        "\n",
        "  @classmethod\n",
        "  def gaming(cls):\n",
        "    print(\"I live in the country : \", cls.country)\n",
        "    print(\"Humko bas khelne mei maja ata hai !\")\n",
        "\n",
        "\n",
        "Person.gaming()\n",
        "per = Person(\"Vishwa\",99)\n",
        "per.gaming()\n",
        "\n",
        "Person.massBunking()\n",
        "per.massBunking()\n",
        "\n"
      ],
      "metadata": {
        "colab": {
          "base_uri": "https://localhost:8080/"
        },
        "id": "kzv77GRGjlDb",
        "outputId": "546f5ad8-9d8d-4d1b-b9a2-d096335e8c8c"
      },
      "execution_count": null,
      "outputs": [
        {
          "output_type": "stream",
          "name": "stdout",
          "text": [
            "I live in the country :  India\n",
            "Humko bas khelne mei maja ata hai !\n",
            "I live in the country :  India\n",
            "Humko bas khelne mei maja ata hai !\n",
            "Bunking mein kya hi maja hai !\n",
            "Bunking mein kya hi maja hai !\n"
          ]
        }
      ]
    },
    {
      "cell_type": "code",
      "source": [
        "class Cricket :\n",
        "  def __init__(self, player1, player2, fight):\n",
        "    self.player1 = player1\n",
        "    self.player2 = player2\n",
        "    self.__fight = fight\n",
        "\n",
        "  def play(self):\n",
        "    self.__internal_conversation()\n",
        "    print(\"Thanks god I didn't see \", self.__fight)\n",
        "    print(\"I am copy cricket champion\")\n",
        "\n",
        "  def __internal_conversation(self):\n",
        "    print(\"Dhoni you just missed a stump today !\")\n",
        "\n",
        "cric = Cricket(\"Gambhir\", \"Virat Kohli\", \"IPL was one such occassion like many\")\n",
        "\n",
        "print(cric.player1)\n",
        "cric.play()\n",
        "\n",
        "#print(cric.__fight)\n",
        "cric.__internal_conversation()\n"
      ],
      "metadata": {
        "colab": {
          "base_uri": "https://localhost:8080/",
          "height": 245
        },
        "id": "Pw7vKfhYn9H9",
        "outputId": "6516abeb-3c16-428a-b05f-5eac3fbad34a"
      },
      "execution_count": null,
      "outputs": [
        {
          "output_type": "stream",
          "name": "stdout",
          "text": [
            "Gambhir\n",
            "Dhoni you just missed a stump today !\n",
            "Thanks god I didn't see  IPL was one such occassion like many\n",
            "I am copy cricket champion\n"
          ]
        },
        {
          "output_type": "error",
          "ename": "AttributeError",
          "evalue": "'Cricket' object has no attribute '__internal_conversation'",
          "traceback": [
            "\u001b[0;31m---------------------------------------------------------------------------\u001b[0m",
            "\u001b[0;31mAttributeError\u001b[0m                            Traceback (most recent call last)",
            "\u001b[0;32m<ipython-input-12-7391a3aadf3b>\u001b[0m in \u001b[0;36m<cell line: 21>\u001b[0;34m()\u001b[0m\n\u001b[1;32m     19\u001b[0m \u001b[0;34m\u001b[0m\u001b[0m\n\u001b[1;32m     20\u001b[0m \u001b[0;31m#print(cric.__fight)\u001b[0m\u001b[0;34m\u001b[0m\u001b[0;34m\u001b[0m\u001b[0m\n\u001b[0;32m---> 21\u001b[0;31m \u001b[0mcric\u001b[0m\u001b[0;34m.\u001b[0m\u001b[0m__internal_conversation\u001b[0m\u001b[0;34m(\u001b[0m\u001b[0;34m)\u001b[0m\u001b[0;34m\u001b[0m\u001b[0;34m\u001b[0m\u001b[0m\n\u001b[0m",
            "\u001b[0;31mAttributeError\u001b[0m: 'Cricket' object has no attribute '__internal_conversation'"
          ]
        }
      ]
    },
    {
      "cell_type": "code",
      "source": [
        "#Encapsulation\n",
        "class Person :\n",
        "  def __init__(self,name, car):\n",
        "    self.__name = name\n",
        "    self.__car = car\n",
        "\n",
        "  def getName(self):\n",
        "    return self.__name\n",
        "\n",
        "  def setName(self, name):\n",
        "    self.__name = name\n",
        "\n",
        "  def getCar(self):\n",
        "    return self.__car\n",
        "\n",
        "  def setCar(self, car):\n",
        "    self.__car = car"
      ],
      "metadata": {
        "id": "1HIKu87StKK0"
      },
      "execution_count": null,
      "outputs": []
    },
    {
      "cell_type": "markdown",
      "source": [
        "**Problem statement 2**\n",
        "\n",
        "Implement a class - Student - that has four properties and two methods. All these attributes (properties and methods) should be public. This problem can be broken down into three tasks.\n",
        "\n",
        "Task 1\n",
        "Implement a constructor to initialize the values of four properties: name, phy, chem, and bio.\n",
        "\n",
        "Task 2\n",
        "Implement a method – totalObtained – in the Student class that calculates total marks of a student.\n",
        "\n",
        "Sample properties\n",
        "\n",
        "name = Mark\n",
        "phy  = 80\n",
        "chem = 90\n",
        "bio  = 40\n",
        "Sample method output\n",
        "\n",
        "obj1.Total()=210\n",
        "\n",
        "Task 3\n",
        "Using the totalObtained method, implement another method, percentage, in the Student class that calculates the percentage of students marks. Assume that the total marks of each subject are 100. The combined marks of three subjects are 300.\n",
        "\n",
        "\n",
        "Sample input\n",
        "\n",
        "phy  = 80\n",
        "chem = 90\n",
        "bio  = 40\n",
        "Sample output\n",
        "\n",
        "70"
      ],
      "metadata": {
        "id": "rihupgLz-ZlI"
      }
    },
    {
      "cell_type": "markdown",
      "source": [
        "**Problem statement 3**\n",
        "\n",
        "Write a Python class called Calculator by completing the tasks below:\n",
        "\n",
        "Task 1\n",
        "Initializer\n",
        "Implement an initializer to initialize the values of num1 and num2.\n",
        "\n",
        "Properties\n",
        "\n",
        "num1\n",
        "num2\n",
        "\n",
        "Task 2\n",
        "\n",
        "Methods\n",
        "\n",
        "add() is a method that returns the sum of num1 and num2.\n",
        "\n",
        "\n",
        "subtract() is a method that returns the subtraction of num1 from num2.\n",
        "\n",
        "\n",
        "multiply() is a method that returns the product of num1 and num2.\n",
        "\n",
        "\n",
        "divide() is a method that returns the division of num2 by num1.\n",
        "\n",
        "\n",
        "\n",
        "Input :\n",
        "Pass numbers (integers or floats) in the initializer.\n",
        "\n",
        "Output :\n",
        "addition, subtraction, division, and multiplication\n",
        "\n",
        "Sample input :\n",
        "obj = Calculator(10, 94);\n",
        "obj.add()\n",
        "obj.subtract()\n",
        "obj.multiply()\n",
        "obj.divide()\n",
        "\n",
        "Sample output :\n",
        "104\n",
        "84\n",
        "940\n",
        "9.4"
      ],
      "metadata": {
        "id": "dg4TvyhR_4qd"
      }
    },
    {
      "cell_type": "markdown",
      "source": [
        "**Encapsulation**"
      ],
      "metadata": {
        "id": "c-uwh4m3JyTh"
      }
    },
    {
      "cell_type": "markdown",
      "source": [
        "**Problem statement 4 **\n",
        "\n",
        "You are given a partially completed code of a Rectangle class in the editor. Implement the class by completing the tasks below.\n",
        "\n",
        "Task 1\n",
        "Implement a constructor to initialize the values of two private properties: length and width.\n",
        "\n",
        "\n",
        "\n",
        "\n",
        "Task 2\n",
        "Implement a method, area(), in the Rectangle class that returns the product of length and width. See the formula below:\n",
        "\n",
        "Area=length×width\n",
        "\n",
        "Sample properties\n",
        "\n",
        "length = 4\n",
        "width = 5\n",
        "Sample method output 20\n",
        "\n",
        "\n",
        "\n",
        "Task 3\n",
        "Implement a method, perimeter(), in the Rectangle class that returns two times the sum of length and width. See the formula below:\n",
        "\n",
        "Perimeter=2×(length+width)\n",
        "\n",
        "Sample properties\n",
        "\n",
        "length = 4\n",
        "width = 5\n",
        "Sample method output\n",
        "\n",
        "18"
      ],
      "metadata": {
        "id": "qNiSEXAEJnlA"
      }
    },
    {
      "cell_type": "code",
      "source": [
        "class Rectangle :\n",
        "  def __init__(self, length, width):\n",
        "    self.__length = length\n",
        "    self.__width = width\n",
        "\n",
        "  def getLength(self):\n",
        "    return self.__length\n",
        "  def setLength(self, length):\n",
        "    self.__length = length\n",
        "\n",
        "  def getWidth(self):\n",
        "    return self.__width\n",
        "  def setWidth(self, width):\n",
        "    self.__width = width\n",
        "\n",
        "  def area(self):\n",
        "    return self.__length*self.__width\n",
        "\n",
        "  def perimeter(self):\n",
        "    return 2*(self.__length + self.__width)\n",
        "\n",
        "\n"
      ],
      "metadata": {
        "id": "66PeVG8PvqL5"
      },
      "execution_count": null,
      "outputs": []
    },
    {
      "cell_type": "markdown",
      "source": [
        "**Problem statement 5**\n",
        "\n",
        "Implement the complete Student class by completing the tasks below\n",
        "\n",
        "\n",
        "Task\n",
        "\n",
        "Implement the following properties as private:\n",
        "\n",
        "name\n",
        "rollNumber\n",
        "Include the following methods to get and set the private properties above:\n",
        "\n",
        "\n",
        "getName()\n",
        "setName()\n",
        "getRollNumber()\n",
        "setRollNumber()\n",
        "Implement this class according to the rules of encapsulation.\n",
        "\n",
        "\n",
        "Input\n",
        "\n",
        "Checking all the properties and methods\n",
        "\n",
        "\n",
        "Output\n",
        "\n",
        "Expecting perfectly defined fields and getter/setters\n",
        "\n",
        "\n",
        "Note: Do not use initializers to initialize the properties. Use the set methods to do so. If the setter is not defined properly, the corresponding getter will also generate an error even if the getter is defined properly.\n",
        "\n"
      ],
      "metadata": {
        "id": "KR02Bi9xKnqG"
      }
    },
    {
      "cell_type": "markdown",
      "source": [
        "***Problem statement 6 ***\n",
        "\n",
        "Implement the basic structure of a parent class, Account, and a child class, SavingsAccount.\n",
        "\n",
        "\n",
        "Task 1\n",
        "Implement properties as instance variables, and set them to None or 0.\n",
        "\n",
        "Account has the following properties:\n",
        "\n",
        "\n",
        "title\n",
        "\n",
        "balance\n",
        "\n",
        "SavingsAccount has the following properties:\n",
        "\n",
        "\n",
        "interestRate\n",
        "\n",
        "\n",
        "Task 2\n",
        "\n",
        "Create an initializer for Account class. The order of parameters should be the following, where Mark is the title, and 5000 is the account balance:\n",
        "\n",
        "\n",
        "Account(\"Mark\", 5000)\n",
        "\n",
        "\n",
        "Task 3\n",
        "\n",
        "Implement properties as instance variables, and set them to None or 0.\n",
        "\n",
        "\n",
        "Create an initializer for the SavingsAccount class using the initializer of the Account class in the order below:\n",
        "\n",
        "\n",
        "SavingAccount(\"Mark\", 5000, 5)\n",
        "\n",
        "Here, Mark is the title and 5000 is the balance and 5 is the interestRate.\n",
        "\n",
        "\n",
        "\n"
      ],
      "metadata": {
        "id": "8P90ySV1h5xD"
      }
    },
    {
      "cell_type": "code",
      "source": [
        "class Account :\n",
        "  def __init__(self, title=None , balance=0):\n",
        "    self.title = title\n",
        "    self.balance = balance\n",
        "\n",
        "\n",
        "class SavingAccount(Account) :\n",
        "  def __init__(self, title , balance , interestRate =0):\n",
        "    super().__init__(title, balance)\n",
        "    self.interestRate = interestRate"
      ],
      "metadata": {
        "id": "tk5MY1YUSv8Q"
      },
      "execution_count": null,
      "outputs": []
    },
    {
      "cell_type": "markdown",
      "source": [
        "**Problem statement 7**\n",
        "\n",
        "In this challenge, we will implement methods in the parent class and its corresponding child class.\n",
        "\n",
        "\n",
        "The initializers for both classes have been defined for you.\n",
        "\n",
        "\n",
        "Task 1\n",
        "\n",
        "In the Account class, implement the getBalance() method that returns balance.\n",
        "\n",
        "\n",
        "Task 2\n",
        "\n",
        "In the Account class, implement the deposit(amount) method that adds amount to the balance. It does not return anything.\n",
        "\n",
        "\n",
        "Sample input\n",
        "\n",
        "\n",
        "balance = 2000\n",
        "\n",
        "deposit(500)\n",
        "\n",
        "getbalance()\n",
        "\n",
        "Sample output\n",
        "\n",
        "\n",
        "2500\n",
        "\n",
        "Task 3\n",
        "\n",
        "In the Account class, implement the withdrawal(amount) method that subtracts the amount from the balance. It does not return anything.\n",
        "\n",
        "\n",
        "Sample input\n",
        "\n",
        "\n",
        "balance = 2000\n",
        "\n",
        "withdrawal(500)\n",
        "\n",
        "getbalance()\n",
        "\n",
        "Sample output\n",
        "\n",
        "\n",
        "1500\n",
        "\n",
        "Task 4\n",
        "\n",
        "In the SavingsAccount class, implement an interestAmount() method that returns the interest amount of the current balance. Below is the formula for calculating the interest amount:\n",
        "\n",
        "\n",
        "\n",
        "\n",
        "Sample input\n",
        "\n",
        "\n",
        "balance = 2000\n",
        "\n",
        "interestRate = 5\n",
        "\n",
        "interestAmount()\n",
        "\n",
        "Sample output\n",
        "\n",
        "\n",
        "100"
      ],
      "metadata": {
        "id": "1ulJN0YajPh2"
      }
    },
    {
      "cell_type": "code",
      "source": [
        "class Account :\n",
        "  def __init__(self, title=None , balance=0):\n",
        "    self.title = title\n",
        "    self.balance = balance\n",
        "\n",
        "  def getBalance(self):\n",
        "    return self.balance\n",
        "\n",
        "  def deposit(self,amount):\n",
        "    self.balance += amount\n",
        "\n",
        "  def withdrawal(self, amount):\n",
        "    self.balance -= amount\n",
        "\n",
        "\n",
        "class SavingAccount(Account) :\n",
        "  def __init__(self, title , balance , interestRate =0):\n",
        "    super().__init__(title, balance)\n",
        "    self.interestRate = interestRate\n",
        "\n",
        "  def interestAmount(self):\n",
        "    return self.interestRate*self.balance/100"
      ],
      "metadata": {
        "id": "MgukHvs-VytB"
      },
      "execution_count": null,
      "outputs": []
    },
    {
      "cell_type": "code",
      "source": [
        "class A :\n",
        "  def play(self):\n",
        "    print(\"A is playing\")\n",
        "\n",
        "class B :\n",
        "  def play(self):\n",
        "    print(\"B is playing\")\n",
        "\n",
        "class C(B,A):\n",
        "  pass\n",
        "\n",
        "c = C()\n",
        "c.play()\n"
      ],
      "metadata": {
        "colab": {
          "base_uri": "https://localhost:8080/"
        },
        "id": "aAf3IiU_V-oo",
        "outputId": "5c36cdf8-f731-4d27-dd9b-adb3f738fb3b"
      },
      "execution_count": null,
      "outputs": [
        {
          "output_type": "stream",
          "name": "stdout",
          "text": [
            "B is playing\n"
          ]
        }
      ]
    },
    {
      "cell_type": "code",
      "source": [
        "class A :\n",
        "  def play(self):\n",
        "    print(\"A is playing\")\n",
        "\n",
        "class B(A) :\n",
        "  pass\n",
        "\n",
        "class C(B):\n",
        "  pass\n",
        "\n",
        "class D:\n",
        "  def play(self):\n",
        "    print(\"D is playing\")\n",
        "\n",
        "class Child(C,D):\n",
        "  pass\n",
        "\n",
        "child = Child()\n",
        "child.play()\n"
      ],
      "metadata": {
        "colab": {
          "base_uri": "https://localhost:8080/"
        },
        "id": "f-dlu7wGZAAe",
        "outputId": "4348ced5-2d53-4051-a7bc-35a1c493fbb6"
      },
      "execution_count": null,
      "outputs": [
        {
          "output_type": "stream",
          "name": "stdout",
          "text": [
            "A is playing\n"
          ]
        }
      ]
    }
  ]
}